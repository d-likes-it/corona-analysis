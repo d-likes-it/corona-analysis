{
 "cells": [
  {
   "cell_type": "markdown",
   "metadata": {},
   "source": [
    "# Is Germany Linear?\n",
    "\n",
    "The question is not so easy to answer. The CSSE dataset looks as if the data is not linear and still exponentially growing. The RKI dataset tells a comletely different story. Still the sums are not so far apart. What is the difference?\n",
    "\n",
    " - CSSE: https://coronavirus.jhu.edu/map.html\n",
    " - RKI: https://experience.arcgis.com/experience/478220a4c454480e823b17327b2bf1d4\n",
    "\n",
    "## Understanding the difference between CSSE/Jhons Hopkins University and Robert Koch Institute \n",
    "\n",
    "\n",
    "It is stated in the RKI dataset that some date gets reported late by idividual states in Germany. And usually there is even a multi day backlog. \n",
    "Though this data is not reflected in the CSSE dataset, that seem to always use the last days increment to create their number. \n",
    "\n",
    "This sheet pulls both datasets and compares them."
   ]
  },
  {
   "cell_type": "markdown",
   "metadata": {},
   "source": [
    "### RKI"
   ]
  },
  {
   "cell_type": "code",
   "execution_count": 1,
   "metadata": {},
   "outputs": [],
   "source": [
    "%matplotlib widget\n",
    "import requests as rq\n",
    "import pandas as pd\n",
    "import seaborn as sns\n",
    "import matplotlib.pyplot as plt\n",
    "import matplotlib.dates as mdates"
   ]
  },
  {
   "cell_type": "code",
   "execution_count": 2,
   "metadata": {},
   "outputs": [],
   "source": [
    "rki = pd.read_pickle('rki.pickle')\n",
    "dfs = []\n",
    "for offset in range(len(rki), 500000, 2000):\n",
    "    d1 = rq.get('https://services7.arcgis.com/mOBPykOjAyBO2ZKk/arcgis/rest/services/RKI_COVID19/FeatureServer/0/query?where=1%3D1&outFields=*&outSR=4326&f=json&resultOffset={}'.format(offset))\n",
    "    j = d1.json()\n",
    "    df = pd.DataFrame(e['attributes'] for e in j['features'])\n",
    "    if len(df) == 0:\n",
    "        break\n",
    "    dfs.append(df)\n",
    "if dfs:\n",
    "    rki = pd.concat([rki] + dfs)\n",
    "    rki.to_pickle('rki.pickle')\n",
    "    \n",
    "rki.AnzahlFall.sum()\n",
    "rki['Meldedatum'] = pd.to_datetime(rki.Meldedatum*1000000)\n",
    "rki_cases = rki.groupby('Meldedatum')[['AnzahlFall']].sum().cumsum()\n",
    "rki_cases = rki_cases.rename(columns={'AnzahlFall': 'rki_cases'})"
   ]
  },
  {
   "cell_type": "markdown",
   "metadata": {},
   "source": [
    "### CSSE"
   ]
  },
  {
   "cell_type": "code",
   "execution_count": 3,
   "metadata": {},
   "outputs": [],
   "source": [
    "csse = pd.read_csv('https://raw.githubusercontent.com/CSSEGISandData/COVID-19/master/csse_covid_19_data/csse_covid_19_time_series/time_series_covid19_confirmed_global.csv')\n",
    "csse_germany = csse[csse['Country/Region'] == 'Germany']\n",
    "csse_germany = csse_germany.drop(['Lat', 'Long', 'Province/State'], axis='columns').set_index('Country/Region')\n",
    "csse_germany_cases = csse_germany.transpose()\n",
    "csse_germany_cases.index = pd.to_datetime(csse_germany_cases.index)\n",
    "csse_germany_cases = csse_germany_cases.rename(columns={'Germany': 'csse_cases'})"
   ]
  },
  {
   "cell_type": "markdown",
   "metadata": {},
   "source": [
    "# Differences"
   ]
  },
  {
   "cell_type": "code",
   "execution_count": 4,
   "metadata": {},
   "outputs": [],
   "source": [
    "cases = csse_germany_cases.join(rki_cases).diff()\n",
    "cases = cases.loc['2020-03-01':]\n",
    "cases['cases_diff'] = cases.rki_cases - cases.csse_cases"
   ]
  },
  {
   "cell_type": "code",
   "execution_count": 5,
   "metadata": {},
   "outputs": [
    {
     "data": {
      "application/vnd.jupyter.widget-view+json": {
       "model_id": "82f34fe204ed48c0a851fd5ecebdeb20",
       "version_major": 2,
       "version_minor": 0
      },
      "text/plain": [
       "Canvas(toolbar=Toolbar(toolitems=[('Home', 'Reset original view', 'home', 'home'), ('Back', 'Back to previous …"
      ]
     },
     "metadata": {},
     "output_type": "display_data"
    }
   ],
   "source": [
    "fig, ax = plt.subplots(figsize=(10,5))\n",
    "to_plot = cases.copy()\n",
    "to_plot.index = to_plot.index.date\n",
    "to_plot.cumsum().plot(kind='bar', ax=ax)\n",
    "fig.autofmt_xdate()"
   ]
  },
  {
   "cell_type": "markdown",
   "metadata": {},
   "source": [
    "The difference in cases is somewhat constant in the past, only the last 2 days differ (consostently since I look at these graphs). If you look at the disclaimer of the rki webage this makes sense due to the 1 or 2 days delay in proper reporting of official figures. Still the csse dataset has more recent data which does not need to follow the official reporting lines.\n",
    "\n",
    "What portion is really new?\n",
    "\n",
    "Given that the reporting behavior for RKI does not change the numbers older than 3 days give relaistic relation between up to date csse numbers and the incomplete but historially more precise dataset of RKI. Let's use this. \n",
    "\n",
    "Let's conside the timeframe until now - 2 days. (becareful with the sum pandas considers an end date to be inclusive!!!)"
   ]
  },
  {
   "cell_type": "code",
   "execution_count": 6,
   "metadata": {},
   "outputs": [
    {
     "data": {
      "text/plain": [
       "3394.0"
      ]
     },
     "execution_count": 6,
     "metadata": {},
     "output_type": "execute_result"
    }
   ],
   "source": [
    "pivot = cases.index[-3]\n",
    "cases[:pivot].cases_diff.sum()"
   ]
  },
  {
   "cell_type": "markdown",
   "metadata": {},
   "source": [
    "So we have this number of cases that are repoted by CSSE as new, even though they are better explained historic. Compensate the increase by a decrease in the last 2 csse figures."
   ]
  },
  {
   "cell_type": "code",
   "execution_count": 7,
   "metadata": {},
   "outputs": [],
   "source": [
    "cases['rki_corrected_csse'] = cases.csse_cases\n",
    "cases.loc[:pivot, 'rki_corrected_csse'] += cases.cases_diff\n",
    "cases.loc[pivot + pd.to_timedelta(1, 'day'):, 'rki_corrected_csse'] -= cases[:pivot].cases_diff.sum() / 2"
   ]
  },
  {
   "cell_type": "markdown",
   "metadata": {},
   "source": [
    "### Result\n",
    "\n",
    "The red line is the start of measures in Bavaria, other countries followed shortly after that. My interpretation of this graph is that the measures are working and that Gemrany currently experiences linear growth. Hope this prevails and that it leads to possibilities to allow economy to reboot in a limited way! "
   ]
  },
  {
   "cell_type": "code",
   "execution_count": 8,
   "metadata": {},
   "outputs": [
    {
     "data": {
      "application/vnd.jupyter.widget-view+json": {
       "model_id": "2ccebc3f40974c548bdfcec601b302e8",
       "version_major": 2,
       "version_minor": 0
      },
      "text/plain": [
       "Canvas(toolbar=Toolbar(toolitems=[('Home', 'Reset original view', 'home', 'home'), ('Back', 'Back to previous …"
      ]
     },
     "metadata": {},
     "output_type": "display_data"
    }
   ],
   "source": [
    "fig, ax = plt.subplots(figsize=(10,5))\n",
    "to_plot = cases.copy()\n",
    "to_plot.index = to_plot.index.date\n",
    "to_plot[['rki_corrected_csse']].plot(kind='bar', ax=ax)\n",
    "plt.vlines([20 - 1], 0, 6000, color='red')\n",
    "plt.annotate(' lockdown', (19, 5200), color='red')\n",
    "fig.autofmt_xdate()"
   ]
  },
  {
   "cell_type": "code",
   "execution_count": null,
   "metadata": {},
   "outputs": [],
   "source": []
  },
  {
   "cell_type": "code",
   "execution_count": null,
   "metadata": {},
   "outputs": [],
   "source": []
  }
 ],
 "metadata": {
  "kernelspec": {
   "display_name": "Python 3",
   "language": "python",
   "name": "python3"
  },
  "language_info": {
   "codemirror_mode": {
    "name": "ipython",
    "version": 3
   },
   "file_extension": ".py",
   "mimetype": "text/x-python",
   "name": "python",
   "nbconvert_exporter": "python",
   "pygments_lexer": "ipython3",
   "version": "3.7.5"
  }
 },
 "nbformat": 4,
 "nbformat_minor": 4
}
